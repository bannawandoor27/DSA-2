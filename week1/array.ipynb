{
 "cells": [
  {
   "attachments": {},
   "cell_type": "markdown",
   "metadata": {},
   "source": [
    "# Array operations\n"
   ]
  },
  {
   "cell_type": "code",
   "execution_count": 31,
   "metadata": {},
   "outputs": [],
   "source": [
    "from array import array\n",
    "\n",
    "class NewArray(array):\n",
    "    \n",
    "    def print(self):\n",
    "        for i in self:\n",
    "            print(i,end=' ')\n",
    "    \n",
    "    def reverse(self):\n",
    "        return NewArray('i',reversed(self))\n",
    "    \n",
    "    def reverse2(self):\n",
    "        reversed_array = NewArray('i',[])\n",
    "        for i in self[:]:\n",
    "            reversed_array.append(self.pop())\n",
    "        return reversed_array\n",
    "    \n",
    "    "
   ]
  },
  {
   "cell_type": "code",
   "execution_count": 44,
   "metadata": {},
   "outputs": [
    {
     "name": "stdout",
     "output_type": "stream",
     "text": [
      "1 3 5 7 9 11 13 14 15 20 22 15 14 \n",
      "\n",
      "14 15 22 20 15 14 13 11 9 7 5 3 1 "
     ]
    }
   ],
   "source": [
    "def missing_numeber(arr):\n",
    "    arr_set = set(arr)\n",
    "\n",
    "    range_set = set(range(1,max(arr)))\n",
    "    return range_set.difference(arr_set)\n",
    "y = [1,2,3,4,6,8,12]\n",
    "missing_numeber(y)\n"
   ]
  },
  {
   "attachments": {},
   "cell_type": "markdown",
   "metadata": {},
   "source": [
    "### Reverse array"
   ]
  },
  {
   "cell_type": "code",
   "execution_count": 36,
   "metadata": {},
   "outputs": [],
   "source": [
    "def reverse(arr):\n",
    "    for i in reversed(arr): \n",
    "        print(i,end=' ')\n",
    "reverse(arr)"
   ]
  },
  {
   "cell_type": "code",
   "execution_count": 43,
   "metadata": {},
   "outputs": [],
   "source": [
    "arr.reverse2().print()"
   ]
  },
  {
   "attachments": {},
   "cell_type": "markdown",
   "metadata": {},
   "source": [
    "### Missing values"
   ]
  },
  {
   "cell_type": "code",
   "execution_count": 67,
   "metadata": {},
   "outputs": [
    {
     "data": {
      "text/plain": [
       "{5, 7, 9, 10, 11}"
      ]
     },
     "execution_count": 67,
     "metadata": {},
     "output_type": "execute_result"
    }
   ],
   "source": [
    "def missing_numeber(arr):\n",
    "    arr_set = set(arr)\n",
    "\n",
    "    range_set = set(range(1,max(arr)))\n",
    "    return range_set.difference(arr_set)\n",
    "y = [1,2,3,4,6,8,12]\n",
    "missing_numeber(y)"
   ]
  }
 ],
 "metadata": {
  "kernelspec": {
   "display_name": "Python 3",
   "language": "python",
   "name": "python3"
  },
  "language_info": {
   "codemirror_mode": {
    "name": "ipython",
    "version": 3
   },
   "file_extension": ".py",
   "mimetype": "text/x-python",
   "name": "python",
   "nbconvert_exporter": "python",
   "pygments_lexer": "ipython3",
   "version": "3.10.6"
  },
  "orig_nbformat": 4
 },
 "nbformat": 4,
 "nbformat_minor": 2
}
